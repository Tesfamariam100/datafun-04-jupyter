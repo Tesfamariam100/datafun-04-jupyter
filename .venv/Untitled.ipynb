{
 "cells": [
  {
   "cell_type": "code",
   "execution_count": 3,
   "metadata": {},
   "outputs": [
    {
     "name": "stdout",
     "output_type": "stream",
     "text": [
      "The sum is: 50\n"
     ]
    }
   ],
   "source": [
    "# Calculate the sum of two numbers\n",
    "num1 = 20\n",
    "num2 = 30\n",
    "\n",
    "sum_result = num1 + num2\n",
    "print(\"The sum is:\", sum_result)\n",
    "\n"
   ]
  },
  {
   "cell_type": "code",
   "execution_count": 8,
   "metadata": {},
   "outputs": [
    {
     "name": "stdout",
     "output_type": "stream",
     "text": [
      "The area of the rectangle is: 50\n"
     ]
    }
   ],
   "source": [
    "# Define variables for the length and width of the rectangle\n",
    "length = 10\n",
    "Width = 5\n",
    "\n",
    "# Calculate the area of the rectangle\n",
    "Area = length * Width\n",
    "\n",
    "# Print the calculated area\n",
    "print(\"The area of the rectangle is:\", Area)\n"
   ]
  }
 ],
 "metadata": {
  "kernelspec": {
   "display_name": ".venv",
   "language": "python",
   "name": "python3"
  },
  "language_info": {
   "codemirror_mode": {
    "name": "ipython",
    "version": 3
   },
   "file_extension": ".py",
   "mimetype": "text/x-python",
   "name": "python",
   "nbconvert_exporter": "python",
   "pygments_lexer": "ipython3",
   "version": "3.12.1"
  }
 },
 "nbformat": 4,
 "nbformat_minor": 2
}
